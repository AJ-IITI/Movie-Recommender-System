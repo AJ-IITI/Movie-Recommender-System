{
  "nbformat": 4,
  "nbformat_minor": 0,
  "metadata": {
    "colab": {
      "provenance": [],
      "gpuType": "T4"
    },
    "kernelspec": {
      "name": "python3",
      "display_name": "Python 3"
    },
    "language_info": {
      "name": "python"
    },
    "accelerator": "GPU"
  },
  "cells": [
    {
      "cell_type": "code",
      "execution_count": null,
      "metadata": {
        "id": "IyhRW3TQN1Rq",
        "colab": {
          "base_uri": "https://localhost:8080/"
        },
        "outputId": "d3ac85ad-50b1-4ab9-f1f4-4c9f8e912c35"
      },
      "outputs": [
        {
          "output_type": "stream",
          "name": "stdout",
          "text": [
            "\u001b[?25l     \u001b[90m━━━━━━━━━━━━━━━━━━━━━━━━━━━━━━━━━━━━━━━━\u001b[0m \u001b[32m0.0/154.4 kB\u001b[0m \u001b[31m?\u001b[0m eta \u001b[36m-:--:--\u001b[0m\r\u001b[2K     \u001b[91m━━━━━━━━━━━━━━━━━━━━━━━━━━━━━━━━━━━━━━━\u001b[0m\u001b[91m╸\u001b[0m \u001b[32m153.6/154.4 kB\u001b[0m \u001b[31m4.5 MB/s\u001b[0m eta \u001b[36m0:00:01\u001b[0m\r\u001b[2K     \u001b[90m━━━━━━━━━━━━━━━━━━━━━━━━━━━━━━━━━━━━━━━━\u001b[0m \u001b[32m154.4/154.4 kB\u001b[0m \u001b[31m3.1 MB/s\u001b[0m eta \u001b[36m0:00:00\u001b[0m\n",
            "\u001b[?25h  Installing build dependencies ... \u001b[?25l\u001b[?25hdone\n",
            "  Getting requirements to build wheel ... \u001b[?25l\u001b[?25hdone\n",
            "  Preparing metadata (pyproject.toml) ... \u001b[?25l\u001b[?25hdone\n",
            "  Building wheel for scikit-surprise (pyproject.toml) ... \u001b[?25l\u001b[?25hdone\n"
          ]
        }
      ],
      "source": [
        "!pip install flask-ngrok pyngrok scikit-surprise flask --quiet\n",
        "!pip install flask pyngrok scikit-surprise --quiet\n"
      ]
    },
    {
      "cell_type": "code",
      "source": [
        "import pandas as pd\n",
        "import numpy as np\n",
        "from surprise import Dataset, Reader, SVD, KNNBasic\n",
        "from surprise.model_selection import train_test_split\n",
        "from surprise import accuracy\n",
        "from sklearn.feature_extraction.text import TfidfVectorizer\n",
        "from sklearn.metrics.pairwise import cosine_similarity\n",
        "from flask import Flask, request, jsonify, render_template_string\n",
        "from pyngrok import ngrok  # Using pyngrok instead of flask-ngrok\n",
        "\n",
        "# Loading dataset\n",
        "df = pd.read_csv(\"ratings.csv\", nrows=100000)\n",
        "df = df[[\"userId\", \"movieId\", \"rating\"]]\n",
        "df.columns = [\"user_id\", \"movie_id\", \"rating\"]\n",
        "\n",
        "# Prepare data for Collaborative Filtering\n",
        "reader = Reader(rating_scale=(1, 5))\n",
        "data = Dataset.load_from_df(df, reader)\n",
        "trainset, testset = train_test_split(data, test_size=0.2, random_state=42)\n",
        "\n",
        "# Collaborative Filtering (SVD)\n",
        "svd_model = SVD(n_factors=50)\n",
        "svd_model.fit(trainset)\n",
        "svd_predictions = svd_model.test(testset)\n",
        "print(\"RMSE (SVD):\", accuracy.rmse(svd_predictions))\n",
        "\n",
        "# Collaborative Filtering (KNN User-Based)\n",
        "knn_model = KNNBasic(sim_options={'name': 'cosine', 'user_based': True})\n",
        "knn_model.fit(trainset)\n",
        "knn_predictions = knn_model.test(testset)\n",
        "print(\"RMSE (KNN):\", accuracy.rmse(knn_predictions))\n",
        "\n",
        "# Content-Based Filtering (Using TF-IDF on Movie Titles)\n",
        "movies_df = pd.read_csv(\"movies.csv\")\n",
        "movies_df = movies_df[[\"movieId\", \"title\"]]\n",
        "movies_df.columns = [\"movie_id\", \"title\"]\n",
        "\n",
        "# Convert titles into numerical vectors\n",
        "vectorizer = TfidfVectorizer(stop_words='english')\n",
        "tfidf_matrix = vectorizer.fit_transform(movies_df[\"title\"])\n",
        "content_similarity = cosine_similarity(tfidf_matrix)\n",
        "\n",
        "# Hybrid Recommendation System\n",
        "def hybrid_recommend(user_id, num_recommendations=5):\n",
        "    all_movies = df[\"movie_id\"].unique()\n",
        "    rated_movies = df[df[\"user_id\"] == user_id][\"movie_id\"].tolist()\n",
        "    unrated_movies = [movie for movie in all_movies if movie not in rated_movies]\n",
        "\n",
        "    # Collaborative Filtering Predictions\n",
        "    svd_predictions = [svd_model.predict(user_id, movie) for movie in unrated_movies]\n",
        "    sorted_svd = sorted(svd_predictions, key=lambda x: x.est, reverse=True)[:num_recommendations]\n",
        "    top_svd = [(pred.iid, pred.est) for pred in sorted_svd]\n",
        "\n",
        "    # Content-Based Recommendations\n",
        "    content_scores = [(movie, content_similarity[movies_df[movies_df[\"movie_id\"] == movie].index[0]].sum()) for movie in unrated_movies]\n",
        "    sorted_content = sorted(content_scores, key=lambda x: x[1], reverse=True)[:num_recommendations]\n",
        "\n",
        "    # Combine both methods\n",
        "    hybrid_results = list(set(top_svd + sorted_content))[:num_recommendations]\n",
        "\n",
        "    # Convert movie_id to movie titles\n",
        "    final_recommendations = [\n",
        "        (movies_df[movies_df[\"movie_id\"] == movie_id][\"title\"].values[0], score)\n",
        "        for movie_id, score in hybrid_results\n",
        "    ]\n",
        "\n",
        "    return final_recommendations\n",
        "\n",
        "\n",
        "# Flask App\n",
        "app = Flask(__name__)\n",
        "\n",
        "@app.route('/')\n",
        "def home():\n",
        "    return render_template_string('''\n",
        "        <!DOCTYPE html>\n",
        "        <html lang=\"en\">\n",
        "        <head>\n",
        "            <meta charset=\"UTF-8\">\n",
        "            <meta name=\"viewport\" content=\"width=device-width, initial-scale=1.0\">\n",
        "            <title>Movie Recommendation System</title>\n",
        "        </head>\n",
        "        <body>\n",
        "            <h1>Movie Recommendation System</h1>\n",
        "            <form action=\"/recommend\" method=\"get\">\n",
        "                <label for=\"user_id\">Enter User ID:</label>\n",
        "                <input type=\"number\" id=\"user_id\" name=\"user_id\" required>\n",
        "                <button type=\"submit\">Get Recommendations</button>\n",
        "            </form>\n",
        "        </body>\n",
        "        </html>\n",
        "    ''')\n",
        "\n",
        "@app.route('/recommend', methods=['GET'])\n",
        "def recommend():\n",
        "    user_id = int(request.args.get('user_id'))\n",
        "    recommendations = hybrid_recommend(user_id)\n",
        "    return render_template_string('''\n",
        "        <!DOCTYPE html>\n",
        "        <html lang=\"en\">\n",
        "        <head>\n",
        "            <meta charset=\"UTF-8\">\n",
        "            <meta name=\"viewport\" content=\"width=device-width, initial-scale=1.0\">\n",
        "            <title>Recommendations</title>\n",
        "        </head>\n",
        "        <body>\n",
        "            <h1>Recommended Movies for User {{ user_id }}</h1>\n",
        "            <ul>\n",
        "                {% for movie in recommendations %}\n",
        "                    <li>{{ movie[0] }} - Predicted Score: {{ movie[1] }}</li>\n",
        "                {% endfor %}\n",
        "            </ul>\n",
        "            <a href=\"/\">Go back</a>\n",
        "        </body>\n",
        "        </html>\n",
        "    ''', user_id=user_id, recommendations=recommendations)\n",
        "\n",
        "\n",
        "# Open an HTTP tunnel using Ngrok\n",
        "public_url = ngrok.connect(5000).public_url\n",
        "print(f\" * Running on {public_url}\")\n",
        "\n",
        "# Start Flask app\n",
        "app.run(port=5000)\n"
      ],
      "metadata": {
        "colab": {
          "base_uri": "https://localhost:8080/"
        },
        "id": "9FdipUnKOB-c",
        "outputId": "10a10c27-6870-4f87-a8b4-a58a14b7c29e"
      },
      "execution_count": null,
      "outputs": [
        {
          "output_type": "stream",
          "name": "stdout",
          "text": [
            "RMSE: 0.9114\n",
            "RMSE (SVD): 0.9114459461878137\n",
            "Computing the cosine similarity matrix...\n",
            "Done computing similarity matrix.\n",
            "RMSE: 1.0097\n",
            "RMSE (KNN): 1.0097036421415866\n",
            " * Running on https://e062-34-138-170-106.ngrok-free.app\n",
            " * Serving Flask app '__main__'\n",
            " * Debug mode: off\n"
          ]
        },
        {
          "output_type": "stream",
          "name": "stderr",
          "text": [
            "INFO:werkzeug:\u001b[31m\u001b[1mWARNING: This is a development server. Do not use it in a production deployment. Use a production WSGI server instead.\u001b[0m\n",
            " * Running on http://127.0.0.1:5000\n",
            "INFO:werkzeug:\u001b[33mPress CTRL+C to quit\u001b[0m\n",
            "INFO:werkzeug:127.0.0.1 - - [06/Feb/2025 08:41:26] \"GET / HTTP/1.1\" 200 -\n",
            "INFO:werkzeug:127.0.0.1 - - [06/Feb/2025 08:41:26] \"\u001b[33mGET /favicon.ico HTTP/1.1\u001b[0m\" 404 -\n",
            "INFO:werkzeug:127.0.0.1 - - [06/Feb/2025 08:41:34] \"GET /recommend?user_id=1 HTTP/1.1\" 200 -\n",
            "INFO:werkzeug:127.0.0.1 - - [06/Feb/2025 08:45:41] \"GET / HTTP/1.1\" 200 -\n",
            "INFO:werkzeug:127.0.0.1 - - [06/Feb/2025 08:54:23] \"GET /recommend?user_id=1 HTTP/1.1\" 200 -\n",
            "INFO:werkzeug:127.0.0.1 - - [06/Feb/2025 08:54:29] \"GET / HTTP/1.1\" 200 -\n",
            "INFO:werkzeug:127.0.0.1 - - [06/Feb/2025 08:54:36] \"GET /recommend?user_id=5 HTTP/1.1\" 200 -\n",
            "INFO:werkzeug:127.0.0.1 - - [06/Feb/2025 08:54:40] \"GET / HTTP/1.1\" 200 -\n",
            "INFO:werkzeug:127.0.0.1 - - [06/Feb/2025 08:54:46] \"GET /recommend?user_id=1 HTTP/1.1\" 200 -\n",
            "WARNING:pyngrok.process.ngrok:t=2025-02-06T08:55:38+0000 lvl=warn msg=\"Stopping forwarder\" name=http-5000-83cb8224-727c-46c0-b795-5cdfab750c4c acceptErr=\"failed to accept connection: Listener closed\"\n"
          ]
        }
      ]
    },
    {
      "cell_type": "code",
      "source": [
        "from pyngrok import ngrok\n",
        "ngrok.set_auth_token(\"Your Authtoken\")\n"
      ],
      "metadata": {
        "id": "laePUHSth6mt"
      },
      "execution_count": null,
      "outputs": []
    },
    {
      "cell_type": "code",
      "source": [],
      "metadata": {
        "id": "m_tRzWNGX9a1"
      },
      "execution_count": null,
      "outputs": []
    }
  ]
}